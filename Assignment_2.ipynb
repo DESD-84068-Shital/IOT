{
 "cells": [
  {
   "cell_type": "code",
   "execution_count": 3,
   "id": "73488e50-90b6-4e49-a127-388533987851",
   "metadata": {},
   "outputs": [],
   "source": [
    "import pandas as pd\n",
    "import numpy as np"
   ]
  },
  {
   "cell_type": "code",
   "execution_count": 4,
   "id": "a5cc5add-aabe-4e17-b5e5-f22615ff8c11",
   "metadata": {},
   "outputs": [
    {
     "name": "stdout",
     "output_type": "stream",
     "text": [
      "0    10\n",
      "1    20\n",
      "2    30\n",
      "3    40\n",
      "4    50\n",
      "dtype: int64\n"
     ]
    }
   ],
   "source": [
    "#1. Write a Pandas program to create and display a one-dimensional array-like object containing an array of data.\n",
    "\n",
    "data=[10,20,30,40,50]\n",
    "x=pd.Series(data)\n",
    "print(x)"
   ]
  },
  {
   "cell_type": "code",
   "execution_count": 5,
   "id": "7044807a-6563-406e-924b-f8c8bf1956fa",
   "metadata": {},
   "outputs": [
    {
     "name": "stdout",
     "output_type": "stream",
     "text": [
      "0    22\n",
      "1    34\n",
      "2    54\n",
      "3    23\n",
      "4    43\n",
      "5    65\n",
      "dtype: int64\n",
      "<class 'pandas.core.series.Series'>\n",
      "[22, 34, 54, 23, 43, 65]\n",
      "<class 'list'>\n"
     ]
    }
   ],
   "source": [
    "#2. Write a Pandas program to convert a Panda module Series to Python list and it’s type.\n",
    "\n",
    "q2=pd.Series([22,34,54,23,43,65])\n",
    "print(q2)\n",
    "print(type(q2))\n",
    "print(q2.tolist())\n",
    "print(type(q2.tolist()))"
   ]
  },
  {
   "cell_type": "code",
   "execution_count": 36,
   "id": "9ea2d381-443d-4e68-a4a2-6c17c8cbc4be",
   "metadata": {},
   "outputs": [
    {
     "name": "stdout",
     "output_type": "stream",
     "text": [
      "addition\n",
      "0     3\n",
      "1     7\n",
      "2    11\n",
      "3    15\n",
      "4    19\n",
      "dtype: int64\n",
      "substraction\n",
      "0    1\n",
      "1    1\n",
      "2    1\n",
      "3    1\n",
      "4    1\n",
      "dtype: int64\n",
      "multiply\n",
      "0     2\n",
      "1    12\n",
      "2    30\n",
      "3    56\n",
      "4    90\n",
      "dtype: int64\n",
      "Division\n",
      "0    2.000000\n",
      "1    1.333333\n",
      "2    1.200000\n",
      "3    1.142857\n",
      "4    1.111111\n",
      "dtype: float64\n"
     ]
    }
   ],
   "source": [
    "# 3. Write a Pandas program to add, subtract, multiple and divide two Pandas Series.\n",
    " #  Sample Series: [2, 4, 6, 8, 10], [1, 3, 5, 7, 9]\n",
    "arr1=pd.Series([2,4,6,8,10])\n",
    "arr2=pd.Series([1,3,5,7,9])\n",
    "\n",
    "print(f\"addition\")\n",
    "ds=arr1+arr2\n",
    "print(ds)\n",
    "\n",
    "print(f\"substraction\")\n",
    "ds=arr1-arr2\n",
    "print(ds)\n",
    "\n",
    "print(f\"multiply\")\n",
    "ds=arr1*arr2\n",
    "print(ds)\n",
    "\n",
    "print(f\"Division\")\n",
    "ds=arr1/arr2\n",
    "print(ds)"
   ]
  },
  {
   "cell_type": "code",
   "execution_count": 41,
   "id": "4a6bd0cb-9cb4-492f-a793-873fa3bd572b",
   "metadata": {},
   "outputs": [
    {
     "name": "stdout",
     "output_type": "stream",
     "text": [
      "Dictionary:\n",
      "{'a': 100, 'b': 200, 'c': 300, 'd': 400}\n",
      "pandas series:\n",
      "a    100\n",
      "b    200\n",
      "c    300\n",
      "d    400\n",
      "dtype: int64\n"
     ]
    }
   ],
   "source": [
    "#4. Write a Pandas program to convert a dictionary to a Pandas series.\n",
    "\n",
    "print(f\"Dictionary:\")\n",
    "dict={'a':100,'b':200,'c':300,'d':400}\n",
    "print(dict)\n",
    "pan_series=pd.Series(dict)\n",
    "print(f\"pandas series:\")\n",
    "print(pan_series)"
   ]
  },
  {
   "cell_type": "code",
   "execution_count": 6,
   "id": "c0f66467-d577-418c-aecc-88e634faa466",
   "metadata": {},
   "outputs": [
    {
     "name": "stdout",
     "output_type": "stream",
     "text": [
      "0    11\n",
      "1    22\n",
      "2    33\n",
      "dtype: int64\n"
     ]
    }
   ],
   "source": [
    "#5. Write a Pandas program to convert a NumPy array to a Pandas series.\n",
    "\n",
    "ds1=np.array([11,22,33])\n",
    "ds2=pd.Series(ds1)\n",
    "print(ds2)"
   ]
  },
  {
   "cell_type": "code",
   "execution_count": 7,
   "id": "132b581d-5c28-4b5e-ac6f-364b3f39a625",
   "metadata": {},
   "outputs": [
    {
     "name": "stdout",
     "output_type": "stream",
     "text": [
      "0    100.00\n",
      "1    200.00\n",
      "2       NaN\n",
      "3    300.12\n",
      "4    400.00\n",
      "dtype: float64\n"
     ]
    }
   ],
   "source": [
    "#6. Write a Pandas program to change the data type of given a column or a Series.\n",
    "\n",
    "q1=pd.Series(['100','200','python','300.12','400'])\n",
    "q2=pd.to_numeric(q1,errors='coerce')\n",
    "print(q2)\n",
    "\n"
   ]
  },
  {
   "cell_type": "code",
   "execution_count": 8,
   "id": "6122c648-1b3b-4130-b771-3e6fd93eab88",
   "metadata": {},
   "outputs": [
    {
     "name": "stdout",
     "output_type": "stream",
     "text": [
      "['100' '200' 'python' '300.12' '400']\n"
     ]
    }
   ],
   "source": [
    "#7. Write a Pandas program to convert a given Series to an array.\n",
    "\n",
    "q3=np.array(q1)\n",
    "print(q3)"
   ]
  },
  {
   "cell_type": "code",
   "execution_count": 9,
   "id": "c3d1f965-d892-436e-8bf8-eb234e2d4ffa",
   "metadata": {},
   "outputs": [
    {
     "name": "stdout",
     "output_type": "stream",
     "text": [
      "    X   Y   Z\n",
      "0  43  87  11\n",
      "1  22  76  65\n",
      "2  45  45  98\n",
      "3  53  98  87\n",
      "4  67  90  56\n"
     ]
    }
   ],
   "source": [
    "#8. Write a Pandas program to create a dataframe from a dictionary and display it.\n",
    "\n",
    "df=pd.DataFrame({'X':[43,22,45,53,67],'Y':[87,76,45,98,90],'Z':[11,65,98,87,56]});\n",
    "print(df)"
   ]
  },
  {
   "cell_type": "code",
   "execution_count": 10,
   "id": "322f5ccb-fcbd-45b7-ba12-2b8721d6e8b5",
   "metadata": {},
   "outputs": [],
   "source": [
    "#9. i) Create a list of empids and names (10 employees).\n",
    " #  ii) Convert list into Series.\n",
    "  # iii) Print type of Series.\n",
    "   #iv) Convert Series into DataFrame.\n",
    "   #v) a) Display all records.\n",
    "    #  b) Display first five records.\n",
    "     # c) Display last five records.\n",
    "      #d) Display first two and last two records.\n",
    "      #e) Display name of 5th employee.\n",
    "      #f) Display record of 4th employee.\n",
    "   #vi) Save the record in csv file (MyRecord.csv)\n",
    "\n",
    "employees={'100':\"Nikita\",'102':\"Muskan\",'103':\"Shital\",'104':\"Bhagyashri\",'105':\"Jitendra\",'106':\"Prajwal\",'107':\"Rushi\",'108':\"Sanket\",'109':\"Mahesh\",'110':\"Nitin\"}"
   ]
  },
  {
   "cell_type": "code",
   "execution_count": 11,
   "id": "e4fc64d1-2d36-4730-858f-629fa21e2c64",
   "metadata": {},
   "outputs": [],
   "source": [
    "q5=pd.Series(employees)"
   ]
  },
  {
   "cell_type": "code",
   "execution_count": 12,
   "id": "00943095-121d-40c5-8b02-10660396a90b",
   "metadata": {},
   "outputs": [
    {
     "name": "stdout",
     "output_type": "stream",
     "text": [
      "100        Nikita\n",
      "102        Muskan\n",
      "103        Shital\n",
      "104    Bhagyashri\n",
      "105      Jitendra\n",
      "106       Prajwal\n",
      "107         Rushi\n",
      "108        Sanket\n",
      "109        Mahesh\n",
      "110         Nitin\n",
      "dtype: object\n"
     ]
    }
   ],
   "source": [
    "print(q5)"
   ]
  },
  {
   "cell_type": "code",
   "execution_count": 13,
   "id": "9ffb7e74-5d6c-4aff-a520-8556034f58b7",
   "metadata": {},
   "outputs": [],
   "source": [
    "q6=pd.DataFrame(list(employees.items()),columns=['EmpID','Name'])"
   ]
  },
  {
   "cell_type": "code",
   "execution_count": 14,
   "id": "176787f3-f89f-4cb8-926c-711c360c29b6",
   "metadata": {},
   "outputs": [
    {
     "name": "stdout",
     "output_type": "stream",
     "text": [
      "  EmpID        Name\n",
      "0   100      Nikita\n",
      "1   102      Muskan\n",
      "2   103      Shital\n",
      "3   104  Bhagyashri\n",
      "4   105    Jitendra\n",
      "5   106     Prajwal\n",
      "6   107       Rushi\n",
      "7   108      Sanket\n",
      "8   109      Mahesh\n",
      "9   110       Nitin\n"
     ]
    }
   ],
   "source": [
    "print(q6)"
   ]
  },
  {
   "cell_type": "code",
   "execution_count": 15,
   "id": "710251db-7673-4496-910e-30f1a4e54615",
   "metadata": {},
   "outputs": [
    {
     "name": "stdout",
     "output_type": "stream",
     "text": [
      "  EmpID        Name\n",
      "0   100      Nikita\n",
      "1   102      Muskan\n",
      "2   103      Shital\n",
      "3   104  Bhagyashri\n",
      "4   105    Jitendra\n"
     ]
    }
   ],
   "source": [
    "print(q6.head())"
   ]
  },
  {
   "cell_type": "code",
   "execution_count": 16,
   "id": "8fc8624f-01ee-49d0-b0e0-f290b1209c1b",
   "metadata": {},
   "outputs": [
    {
     "name": "stdout",
     "output_type": "stream",
     "text": [
      "  EmpID     Name\n",
      "5   106  Prajwal\n",
      "6   107    Rushi\n",
      "7   108   Sanket\n",
      "8   109   Mahesh\n",
      "9   110    Nitin\n"
     ]
    }
   ],
   "source": [
    "print(q6.tail())"
   ]
  },
  {
   "cell_type": "code",
   "execution_count": 17,
   "id": "0d876d31-e219-4e9f-9729-9feb1cb5d1d5",
   "metadata": {},
   "outputs": [
    {
     "name": "stdout",
     "output_type": "stream",
     "text": [
      "  EmpID    Name\n",
      "0   100  Nikita\n",
      "1   102  Muskan\n",
      "8   109  Mahesh\n",
      "9   110   Nitin\n"
     ]
    }
   ],
   "source": [
    "print(q6.iloc[[0,1,-2,-1]])\n"
   ]
  },
  {
   "cell_type": "code",
   "execution_count": 18,
   "id": "a6a8bac2-cd44-416e-953e-f58e4f4570ce",
   "metadata": {},
   "outputs": [
    {
     "name": "stdout",
     "output_type": "stream",
     "text": [
      "Jitendra\n"
     ]
    }
   ],
   "source": [
    "print(q6.iloc[4]['Name'])"
   ]
  },
  {
   "cell_type": "code",
   "execution_count": 19,
   "id": "fa5219fa-8bf1-4fa7-8b82-e6a2bda68cb0",
   "metadata": {},
   "outputs": [
    {
     "name": "stdout",
     "output_type": "stream",
     "text": [
      "EmpID           104\n",
      "Name     Bhagyashri\n",
      "Name: 3, dtype: object\n"
     ]
    }
   ],
   "source": [
    "print(q6.iloc[3])"
   ]
  },
  {
   "cell_type": "code",
   "execution_count": null,
   "id": "91f31d92-2731-47a8-af09-119e3169bca2",
   "metadata": {},
   "outputs": [],
   "source": []
  }
 ],
 "metadata": {
  "kernelspec": {
   "display_name": "Python 3 (ipykernel)",
   "language": "python",
   "name": "python3"
  },
  "language_info": {
   "codemirror_mode": {
    "name": "ipython",
    "version": 3
   },
   "file_extension": ".py",
   "mimetype": "text/x-python",
   "name": "python",
   "nbconvert_exporter": "python",
   "pygments_lexer": "ipython3",
   "version": "3.10.12"
  }
 },
 "nbformat": 4,
 "nbformat_minor": 5
}
