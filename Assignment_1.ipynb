{
 "cells": [
  {
   "cell_type": "code",
   "execution_count": 8,
   "id": "dbc34707-3892-4904-a181-806bea37c1e2",
   "metadata": {},
   "outputs": [],
   "source": [
    "import numpy as np\n"
   ]
  },
  {
   "cell_type": "code",
   "execution_count": 9,
   "id": "809bc196-a8ff-41f1-bc95-910b26c2062d",
   "metadata": {},
   "outputs": [],
   "source": [
    "#1. Write a NumPy program to create an array with the values 1, 7, 13, 105    and determine the size of the memory occupied by the array.\n",
    "def function():\n",
    "    arr=np.array([1,7,13,105])\n",
    "    print(arr)\n",
    "    print(f\"Size={arr.size}\")\n"
   ]
  },
  {
   "cell_type": "code",
   "execution_count": 10,
   "id": "949fefd3-5300-4fd3-a5a6-461aef8be695",
   "metadata": {},
   "outputs": [
    {
     "name": "stdout",
     "output_type": "stream",
     "text": [
      "[  1   7  13 105]\n",
      "Size=4\n"
     ]
    }
   ],
   "source": [
    "function()"
   ]
  },
  {
   "cell_type": "code",
   "execution_count": 11,
   "id": "3996bc2d-3b76-4f5c-8a85-66f0afd3ee2a",
   "metadata": {},
   "outputs": [],
   "source": [
    "#2. Write a NumPy program to create an element-wise comparison (greater,    greater_equal, less and less_equal) of two given arrays.\n",
    "\n",
    "arr1=np.array([11,22])\n",
    "arr2=np.array([21,33])\n",
    "\n",
    " "
   ]
  },
  {
   "cell_type": "code",
   "execution_count": 12,
   "id": "da65bd4b-0730-4522-b834-83dfed84d31a",
   "metadata": {},
   "outputs": [
    {
     "name": "stdout",
     "output_type": "stream",
     "text": [
      "comparision-greater\n",
      "[False False]\n",
      "comparision_greater equal\n",
      "[False False]\n",
      "comparision-less\n",
      "[ True  True]\n",
      "comparision-less_equal\n",
      "[ True  True]\n"
     ]
    }
   ],
   "source": [
    "print(\"comparision-greater\")\n",
    "print(np.greater(arr1,arr2))\n",
    "\n",
    "print(\"comparision_greater equal\")\n",
    "print(np.greater_equal(arr1,arr2))\n",
    "\n",
    "print(\"comparision-less\")\n",
    "print(np.less(arr1,arr2))\n",
    "\n",
    "print(\"comparision-less_equal\")\n",
    "print(np.less_equal(arr1,arr2))"
   ]
  },
  {
   "cell_type": "code",
   "execution_count": 21,
   "id": "a7ced49e-01e5-4cd7-81e4-3c8c6c7ce2bd",
   "metadata": {},
   "outputs": [
    {
     "name": "stdout",
     "output_type": "stream",
     "text": [
      "array of 10 zeros\n",
      "[0. 0. 0. 0. 0. 0. 0. 0. 0. 0.]\n",
      "array of 10 ones\n",
      "[1. 1. 1. 1. 1. 1. 1. 1. 1. 1.]\n",
      "array of 5 fives\n",
      "[5. 5. 5. 5. 5.]\n",
      "array of 10 tens\n",
      "[10. 10. 10. 10. 10. 10. 10. 10. 10. 10.]\n",
      "array of 20 tens\n",
      "[10. 10. 10. 10. 10. 10. 10. 10. 10. 10. 10. 10. 10. 10. 10. 10. 10. 10.\n",
      " 10. 10.]\n",
      "array of 50 tens\n",
      "[10. 10. 10. 10. 10. 10. 10. 10. 10. 10. 10. 10. 10. 10. 10. 10. 10. 10.\n",
      " 10. 10. 10. 10. 10. 10. 10. 10. 10. 10. 10. 10. 10. 10. 10. 10. 10. 10.\n",
      " 10. 10. 10. 10. 10. 10. 10. 10. 10. 10. 10. 10. 10. 10.]\n"
     ]
    }
   ],
   "source": [
    "#3.  Write a NumPy program to create an array of 10 zeros, 10 ones, 10    fives, 10 tens, 10 twentys and 10 fiftys.\n",
    "\n",
    "print(f\"array of 10 zeros\")\n",
    "array=np.zeros(10)\n",
    "print(array)\n",
    "\n",
    "print(f\"array of 10 ones\")\n",
    "array=np.ones(10)\n",
    "print(array)\n",
    "\n",
    "print(f\"array of 5 fives\")\n",
    "array=np.ones(5)*5\n",
    "print(array)\n",
    "\n",
    "print(f\"array of 10 tens\")\n",
    "array=np.ones(10)*10\n",
    "print(array)\n",
    "\n",
    "print(f\"array of 20 tens\")\n",
    "array=np.ones(20)*10\n",
    "print(array)\n",
    "\n",
    "print(f\"array of 50 tens\")\n",
    "array=np.ones(50)*10\n",
    "print(array)\n",
    "\n"
   ]
  },
  {
   "cell_type": "code",
   "execution_count": 27,
   "id": "fe20203b-bb07-4555-8dd2-e34fb825b369",
   "metadata": {},
   "outputs": [
    {
     "name": "stdout",
     "output_type": "stream",
     "text": [
      "array of intergers fron 30 to 70\n",
      "[30 31 32 33 34 35 36 37 38 39 40 41 42 43 44 45 46 47 48 49 50 51 52 53\n",
      " 54 55 56 57 58 59 60 61 62 63 64 65 66 67 68 69 70]\n"
     ]
    }
   ],
   "source": [
    "#4.Write a NumPy program to create an array of integers from 30 to 70.\n",
    "\n",
    "print(f\"array of intergers fron 30 to 70\")\n",
    "array=np.arange(30,71)\n",
    "print(array)\n"
   ]
  },
  {
   "cell_type": "code",
   "execution_count": 28,
   "id": "43102d15-7822-4db8-abdb-2111bbef65f3",
   "metadata": {},
   "outputs": [
    {
     "name": "stdout",
     "output_type": "stream",
     "text": [
      "array of integers from 50 to 95\n",
      "[50 51 52 53 54 55 56 57 58 59 60 61 62 63 64 65 66 67 68 69 70 71 72 73\n",
      " 74 75 76 77 78 79 80 81 82 83 84 85 86 87 88 89 90 91 92 93 94 95]\n"
     ]
    }
   ],
   "source": [
    "#5.Write a NumPy program to create an array of integers from 50 to 95.\n",
    "\n",
    "print(f\"array of integers from 50 to 95\")\n",
    "array=np.arange(50,96)\n",
    "print(array)"
   ]
  },
  {
   "cell_type": "code",
   "execution_count": 31,
   "id": "42d60395-d7a0-40a0-9e2d-5bc373b7184b",
   "metadata": {},
   "outputs": [
    {
     "name": "stdout",
     "output_type": "stream",
     "text": [
      "[20 22 24 26 28 30 32 34 36 38 40 42 44 46 48 50 52 54 56 58 60 62 64 66\n",
      " 68 70 72 74 76 78 80]\n"
     ]
    }
   ],
   "source": [
    "#6. Write a NumPy program to create an array of all even integers from 20 to 80.\n",
    "print(f\"array of even numbers\")\n",
    "array=np.arange(20,81,2)\n",
    "print(array)"
   ]
  },
  {
   "cell_type": "code",
   "execution_count": 33,
   "id": "8fec2bd0-cd41-498e-b452-451ac02dc201",
   "metadata": {},
   "outputs": [
    {
     "name": "stdout",
     "output_type": "stream",
     "text": [
      "array of odd numbers\n",
      "[21 22 23 24 25 26 27 28 29 30 31 32 33 34 35 36 37 38 39 40 41 42 43 44\n",
      " 45 46 47 48 49 50 51 52 53 54 55 56 57 58 59 60 61 62 63 64 65 66 67 68\n",
      " 69 70 71 72 73 74 75 76 77 78 79]\n"
     ]
    }
   ],
   "source": [
    "#7. Write a NumPy program to create an array of all odd integers from 20 to 80.\n",
    "\n",
    "print(f\"array of odd numbers\")\n",
    "array=np.arange(21,80,1)\n",
    "print(array)\n"
   ]
  },
  {
   "cell_type": "code",
   "execution_count": 37,
   "id": "83131cbb-fba4-4954-8de3-a8ad32ad0a43",
   "metadata": {},
   "outputs": [
    {
     "name": "stdout",
     "output_type": "stream",
     "text": [
      "array of random numbers from 10 to 40\n",
      "[-33.37371869   1.73617971 -27.50156418  56.75299027  62.88711688\n",
      "  68.13341651  21.27175564  86.62290996  64.15375478  30.59729064\n",
      " -56.54873884  69.26323012  44.23460163 -43.9724544   12.29268442]\n"
     ]
    }
   ],
   "source": [
    "#8. Write a NumPy program to generate an array of 15 random numbers from 10    to 40.\n",
    "\n",
    "print(f\"array of random numbers from 10 to 40\")\n",
    "rand_num=np.random.normal(10,40,15)\n",
    "print(rand_num)"
   ]
  },
  {
   "cell_type": "code",
   "execution_count": 38,
   "id": "510581f7-7c1d-4a3c-ab77-8e4d8de28a6b",
   "metadata": {},
   "outputs": [
    {
     "name": "stdout",
     "output_type": "stream",
     "text": [
      "array of ramdom numbers from 30 to 50\n",
      "[ 42.44741113  27.96638694   5.75133241 108.72040094 120.75781821\n",
      "  -4.16250091  -4.4327209   34.35458083  13.34649542  25.20249896]\n"
     ]
    }
   ],
   "source": [
    "#9. Write a NumPy program to generate an array of 10 random numbers from 30    to 50.\n",
    "\n",
    "print(f\"array of ramdom numbers from 30 to 50\")\n",
    "rand_num=np.random.normal(30,50,10)\n",
    "print(rand_num)"
   ]
  },
  {
   "cell_type": "code",
   "execution_count": 48,
   "id": "db9d998b-ffa0-479e-86a5-009f9ec71ea6",
   "metadata": {},
   "outputs": [
    {
     "name": "stdout",
     "output_type": "stream",
     "text": [
      "array of 20 random numbers from 50 to 90\n",
      "[ 210.26928824  -37.85698464  -24.4814984   126.37546559  300.22946391\n",
      "  149.92902722   54.84858229  115.38935502   89.64234156   23.13637819\n",
      "  121.4921682  -119.49201057  110.95251331  -32.55913571  -36.90832618\n",
      "   34.56496704   90.72521813   71.79540893  -89.25879173  196.47975117]\n"
     ]
    }
   ],
   "source": [
    "#10. Write a NumPy program to generate an array of 20 random numbers from 50    to 90.\n",
    "\n",
    "print(f\"array of 20 random numbers from 50 to 90\")\n",
    "rand_num=np.random.normal(50,90,20)\n",
    "print(rand_num)"
   ]
  },
  {
   "cell_type": "code",
   "execution_count": 49,
   "id": "1d88cd55-d326-4306-8cbb-ac9cd7bd7039",
   "metadata": {},
   "outputs": [],
   "source": [
    "#11. Create any two arrays & perform various mathematical operations.\n",
    "#    i.e. Addition, Substraction, Multiplication, Divide.\n",
    "\n",
    "array1=np.array([11,22,33,44,55])\n",
    "array2=np.array([10,20,30,40,50])"
   ]
  },
  {
   "cell_type": "code",
   "execution_count": 51,
   "id": "33fe6c11-08a8-404b-ab6e-508ddac4ac65",
   "metadata": {},
   "outputs": [
    {
     "name": "stdout",
     "output_type": "stream",
     "text": [
      "addition:\n",
      "[ 21  42  63  84 105]\n",
      "substraction:\n",
      "[1 2 3 4 5]\n",
      "multiplication:\n",
      "[ 110  440  990 1760 2750]\n",
      "division:\n",
      "[1.1 1.1 1.1 1.1 1.1]\n"
     ]
    }
   ],
   "source": [
    "print(f\"addition:\")\n",
    "a=array1+array2\n",
    "print(a)\n",
    "\n",
    "print(f\"substraction:\")\n",
    "b=array1-array2\n",
    "print(b)\n",
    "\n",
    "print(f\"multiplication:\")\n",
    "c=array1*array2\n",
    "print(c)\n",
    "\n",
    "print(f\"division:\")\n",
    "d=array1/array2\n",
    "print(d)"
   ]
  },
  {
   "cell_type": "code",
   "execution_count": 47,
   "id": "982266f5-2798-42cf-915a-2bdce70f0043",
   "metadata": {},
   "outputs": [
    {
     "name": "stdout",
     "output_type": "stream",
     "text": [
      "3*4 matrix:\n",
      "[[10 11 12 13]\n",
      " [14 15 16 17]\n",
      " [18 19 20 21]]\n"
     ]
    }
   ],
   "source": [
    "#12. Write a NumPy program to create a 3x4 matrix filled with values from 10 to 21.\n",
    "\n",
    "print(f\"3*4 matrix:\")\n",
    "matrix=np.arange(10,22).reshape((3,4))\n",
    "print(matrix)"
   ]
  },
  {
   "cell_type": "code",
   "execution_count": 54,
   "id": "83522d02-2cdc-4c4d-ba67-0f59a64ff5be",
   "metadata": {},
   "outputs": [
    {
     "name": "stdout",
     "output_type": "stream",
     "text": [
      "3*3 matrix\n",
      "[[1. 0. 0.]\n",
      " [0. 1. 0.]\n",
      " [0. 0. 1.]]\n"
     ]
    }
   ],
   "source": [
    "#13. Write a NumPy program to create a 3x3 identity matrix, i.e. the diagonal elements are 1, the rest are 0.\n",
    "\n",
    "print(f\"3*3 matrix\")\n",
    "matrix=np.eye(3)\n",
    "print(matrix)"
   ]
  },
  {
   "cell_type": "code",
   "execution_count": 60,
   "id": "ce021ced-8bc5-4c13-bba3-e61c6e55177f",
   "metadata": {},
   "outputs": [
    {
     "name": "stdout",
     "output_type": "stream",
     "text": [
      "matrix:\n",
      "[[10 11 12 13 14]\n",
      " [15 16 17 18 19]\n",
      " [20 21 22 23 24]\n",
      " [25 26 27 28 29]]\n",
      "rows and columns:\n",
      "(4, 5)\n"
     ]
    }
   ],
   "source": [
    "#14. Write a NumPy program to find the number of rows and columns in a given matrix. \n",
    "\n",
    "print(f\"matrix:\")\n",
    "matrix=np.arange(10,30).reshape(4,5)\n",
    "print(matrix)\n",
    "\n",
    "print(f\"rows and columns:\")\n",
    "print(matrix.shape)"
   ]
  },
  {
   "cell_type": "code",
   "execution_count": 62,
   "id": "82df1db1-0a9c-4bc3-8dc1-510df849f536",
   "metadata": {},
   "outputs": [
    {
     "name": "stdout",
     "output_type": "stream",
     "text": [
      "5*5 matrix:\n",
      "[[1 0 0 0 0]\n",
      " [0 2 0 0 0]\n",
      " [0 0 3 0 0]\n",
      " [0 0 0 4 0]\n",
      " [0 0 0 0 5]]\n"
     ]
    }
   ],
   "source": [
    "#15. Write a NumPy program to create a 5x5 zero matrix with elements on the main diagonal equal to 1, 2, 3, 4, 5.\n",
    "\n",
    "print(f\"5*5 matrix:\")\n",
    "matrix=np.diag([1,2,3,4,5])\n",
    "print(matrix)"
   ]
  },
  {
   "cell_type": "code",
   "execution_count": 64,
   "id": "b502359f-94f0-4b86-b030-ac8168b02575",
   "metadata": {},
   "outputs": [
    {
     "name": "stdout",
     "output_type": "stream",
     "text": [
      "3*3*3 matrix with arbitrary values:\n",
      "[[[0.74477692 0.0331236  0.0541975 ]\n",
      "  [0.67419035 0.09007539 0.74317438]\n",
      "  [0.50723128 0.772671   0.33878844]]\n",
      "\n",
      " [[0.28624798 0.15775299 0.04950275]\n",
      "  [0.98995033 0.21787539 0.2826805 ]\n",
      "  [0.06991579 0.31690365 0.2201685 ]]\n",
      "\n",
      " [[0.55906979 0.01040017 0.92382028]\n",
      "  [0.44733573 0.12237096 0.49944866]\n",
      "  [0.97950683 0.34596094 0.40555492]]]\n"
     ]
    }
   ],
   "source": [
    "#16. Write a NumPy program to create a 3x3x3 array filled with arbitrary values.\n",
    "\n",
    "print(f\"3*3*3 matrix with arbitrary values:\")\n",
    "matrix=np.random.random((3,3,3))\n",
    "print(matrix)"
   ]
  },
  {
   "cell_type": "code",
   "execution_count": 66,
   "id": "98208067-595b-475b-8053-bd2ff79c4874",
   "metadata": {},
   "outputs": [
    {
     "name": "stdout",
     "output_type": "stream",
     "text": [
      "2*3*4 matrix with arbitrary values:\n",
      "[[[0.47523099 0.63561572 0.94213508 0.64789773]\n",
      "  [0.8732991  0.10770068 0.0369963  0.35733156]\n",
      "  [0.83604147 0.29933481 0.55658548 0.68723936]]\n",
      "\n",
      " [[0.65063484 0.76533913 0.66973943 0.28916301]\n",
      "  [0.8286212  0.06956554 0.67440594 0.16967125]\n",
      "  [0.37792403 0.53464649 0.88596718 0.45206813]]]\n"
     ]
    }
   ],
   "source": [
    "#17. Write a NumPy program to create a 2x3x4 array filled with arbitrary values.\n",
    "\n",
    "print(f\"2*3*4 matrix with arbitrary values:\")\n",
    "matrix=np.random.random((2,3,4))\n",
    "print(matrix)"
   ]
  },
  {
   "cell_type": "code",
   "execution_count": 67,
   "id": "cea960f1-8dc2-446c-9914-aabc116dae5f",
   "metadata": {},
   "outputs": [
    {
     "name": "stdout",
     "output_type": "stream",
     "text": [
      "[11, 22, 33, 44, 55]\n",
      "one-dimensional array:\n",
      "[11 22 33 44 55]\n"
     ]
    }
   ],
   "source": [
    "#18. Write a NumPy program to convert a list of numeric values into a one-dimensional NumPy array.\n",
    "\n",
    "list=[11,22,33,44,55]\n",
    "print(list)\n",
    "print(f\"one-dimensional array:\")\n",
    "array=np.array(list)\n",
    "print(array)"
   ]
  },
  {
   "cell_type": "code",
   "execution_count": 72,
   "id": "62f5f245-0380-44cf-af50-1ca13989859a",
   "metadata": {},
   "outputs": [
    {
     "name": "stdout",
     "output_type": "stream",
     "text": [
      "3*3 matrix:\n",
      "[[ 2  3  4]\n",
      " [ 5  6  7]\n",
      " [ 8  9 10]]\n"
     ]
    }
   ],
   "source": [
    "#19. Write a NumPy program to create a 3x3 matrix with values ranging from 2 to 10.\n",
    "\n",
    "print(f\"3*3 matrix:\")\n",
    "matrix=np.arange(2,11).reshape((3,3))\n",
    "print(matrix)\n"
   ]
  },
  {
   "cell_type": "code",
   "execution_count": 79,
   "id": "3bb399eb-f92c-40a9-9946-0f984a1d7b5f",
   "metadata": {},
   "outputs": [
    {
     "name": "stdout",
     "output_type": "stream",
     "text": [
      "array:\n",
      "[12 13 14 15 16 17 18 19 20 21 22 23 24 25 26 27 28 29 30 31 32 33 34 35\n",
      " 36 37 38]\n"
     ]
    }
   ],
   "source": [
    "#20. Write a NumPy program to create an array with values ranging from 12 to 38.\n",
    "\n",
    "print(f\"array:\")\n",
    "array=np.arange(12,39)\n",
    "print(array)"
   ]
  },
  {
   "cell_type": "code",
   "execution_count": 82,
   "id": "0d9da263-b8c3-447b-a930-8400d4767220",
   "metadata": {},
   "outputs": [
    {
     "name": "stdout",
     "output_type": "stream",
     "text": [
      "array:\n",
      "[11 22 33 44 55]\n",
      "[55 44 33 22 11]\n"
     ]
    }
   ],
   "source": [
    "#21. Write a NumPy program to reverse an array (the first element becomes the last).\n",
    "\n",
    "print(f\"array:\")\n",
    "array=np.array([11,22,33,44,55])\n",
    "print(array)\n",
    "array=np.flip(array)\n",
    "print(array)\n"
   ]
  },
  {
   "cell_type": "code",
   "execution_count": 83,
   "id": "6b3f26fe-026e-47b5-9775-705c6daa9544",
   "metadata": {},
   "outputs": [],
   "source": [
    "#22. Write a NumPy program to convert an data type into to a floating type.\n",
    "\n"
   ]
  },
  {
   "cell_type": "code",
   "execution_count": 86,
   "id": "079cc294-2228-44ab-a0cc-5fe51b9b9065",
   "metadata": {},
   "outputs": [
    {
     "name": "stdout",
     "output_type": "stream",
     "text": [
      "[10, 20, 30, 40, 50]\n",
      "[[10 20 30 40 50]]\n"
     ]
    }
   ],
   "source": [
    "#23. Write a NumPy program to convert a list array.\n",
    "\n",
    "l1=[10,20,30,40,50]\n",
    "print(l1)\n",
    "array=np.array([l1])\n",
    "print(array)"
   ]
  },
  {
   "cell_type": "code",
   "execution_count": 88,
   "id": "93c85fd3-8faa-4eee-9fe1-74535eb42679",
   "metadata": {},
   "outputs": [
    {
     "name": "stdout",
     "output_type": "stream",
     "text": [
      "[ 1  2  3  4  5  6  7  8  9 10]\n",
      "[1 0 1 0 1 0 1 0 1 0]\n"
     ]
    }
   ],
   "source": [
    "#24. Write a NumPy program to get the element-wise remainder of an array of division.\n",
    "\n",
    "array=np.array([1,2,3,4,5,6,7,8,9,10])\n",
    "print(array)\n",
    "array=np.remainder(array,2)\n",
    "print(array)"
   ]
  },
  {
   "cell_type": "code",
   "execution_count": 92,
   "id": "79f8c891-8373-4043-9cf9-0153b7a6d1c6",
   "metadata": {},
   "outputs": [
    {
     "name": "stdout",
     "output_type": "stream",
     "text": [
      "[20 21 22 23 24 25 26 27 28 29 30 31 32 33 34 35 36 37 38 39 40 41 42 43\n",
      " 44 45 46 47 48 49 50]\n",
      "[2 0 1 2 0 1 2 0 1 2 0 1 2 0 1 2 0 1 2 0 1 2 0 1 2 0 1 2 0 1 2]\n"
     ]
    }
   ],
   "source": [
    "#25. Write a NumPy program to get the element-wise remainder of an array of numbers from 20 to 50 which are divisible by 3.\n",
    "\n",
    "array=np.arange(20,51)\n",
    "print(array)\n",
    "\n",
    "#array=np.ramainder(array,3)\n",
    "print(np.remainder(array,3))"
   ]
  },
  {
   "cell_type": "code",
   "execution_count": null,
   "id": "927b3d65-162c-4fa1-af2d-59e426c5981c",
   "metadata": {},
   "outputs": [],
   "source": []
  }
 ],
 "metadata": {
  "kernelspec": {
   "display_name": "Python 3 (ipykernel)",
   "language": "python",
   "name": "python3"
  },
  "language_info": {
   "codemirror_mode": {
    "name": "ipython",
    "version": 3
   },
   "file_extension": ".py",
   "mimetype": "text/x-python",
   "name": "python",
   "nbconvert_exporter": "python",
   "pygments_lexer": "ipython3",
   "version": "3.10.12"
  }
 },
 "nbformat": 4,
 "nbformat_minor": 5
}
